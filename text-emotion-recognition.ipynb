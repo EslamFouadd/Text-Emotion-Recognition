{
 "cells": [
  {
   "cell_type": "code",
   "execution_count": 1,
   "id": "8a6096f4",
   "metadata": {
    "_cell_guid": "b1076dfc-b9ad-4769-8c92-a6c4dae69d19",
    "_uuid": "8f2839f25d086af736a60e9eeb907d3b93b6e0e5",
    "execution": {
     "iopub.execute_input": "2023-03-07T15:48:35.817406Z",
     "iopub.status.busy": "2023-03-07T15:48:35.816912Z",
     "iopub.status.idle": "2023-03-07T15:48:43.763269Z",
     "shell.execute_reply": "2023-03-07T15:48:43.760160Z"
    },
    "papermill": {
     "duration": 7.956497,
     "end_time": "2023-03-07T15:48:43.765927",
     "exception": false,
     "start_time": "2023-03-07T15:48:35.809430",
     "status": "completed"
    },
    "tags": []
   },
   "outputs": [
    {
     "name": "stdout",
     "output_type": "stream",
     "text": [
      "2.11.0\n"
     ]
    }
   ],
   "source": [
    "import tensorflow as tf\n",
    "print(tf.__version__)"
   ]
  },
  {
   "cell_type": "code",
   "execution_count": 2,
   "id": "a444b47c",
   "metadata": {
    "execution": {
     "iopub.execute_input": "2023-03-07T15:48:43.778025Z",
     "iopub.status.busy": "2023-03-07T15:48:43.777288Z",
     "iopub.status.idle": "2023-03-07T15:48:43.782803Z",
     "shell.execute_reply": "2023-03-07T15:48:43.781624Z"
    },
    "papermill": {
     "duration": 0.013927,
     "end_time": "2023-03-07T15:48:43.785065",
     "exception": false,
     "start_time": "2023-03-07T15:48:43.771138",
     "status": "completed"
    },
    "tags": []
   },
   "outputs": [],
   "source": [
    "import pandas as pd\n",
    "import numpy as np\n",
    "import matplotlib.pyplot as plt"
   ]
  },
  {
   "cell_type": "code",
   "execution_count": 3,
   "id": "7378c384",
   "metadata": {
    "execution": {
     "iopub.execute_input": "2023-03-07T15:48:43.796638Z",
     "iopub.status.busy": "2023-03-07T15:48:43.795761Z",
     "iopub.status.idle": "2023-03-07T15:48:44.598712Z",
     "shell.execute_reply": "2023-03-07T15:48:44.597615Z"
    },
    "papermill": {
     "duration": 0.812119,
     "end_time": "2023-03-07T15:48:44.602045",
     "exception": false,
     "start_time": "2023-03-07T15:48:43.789926",
     "status": "completed"
    },
    "tags": []
   },
   "outputs": [
    {
     "data": {
      "text/html": [
       "<div>\n",
       "<style scoped>\n",
       "    .dataframe tbody tr th:only-of-type {\n",
       "        vertical-align: middle;\n",
       "    }\n",
       "\n",
       "    .dataframe tbody tr th {\n",
       "        vertical-align: top;\n",
       "    }\n",
       "\n",
       "    .dataframe thead th {\n",
       "        text-align: right;\n",
       "    }\n",
       "</style>\n",
       "<table border=\"1\" class=\"dataframe\">\n",
       "  <thead>\n",
       "    <tr style=\"text-align: right;\">\n",
       "      <th></th>\n",
       "      <th>text</th>\n",
       "      <th>emotion</th>\n",
       "    </tr>\n",
       "  </thead>\n",
       "  <tbody>\n",
       "    <tr>\n",
       "      <th>0</th>\n",
       "      <td>carefully word blog posts amount criticism hea...</td>\n",
       "      <td>☹️</td>\n",
       "    </tr>\n",
       "    <tr>\n",
       "      <th>1</th>\n",
       "      <td>cannot remember little mermaid feeling carefre...</td>\n",
       "      <td>🙂</td>\n",
       "    </tr>\n",
       "    <tr>\n",
       "      <th>2</th>\n",
       "      <td>not feeling super well turns cold knocked next...</td>\n",
       "      <td>🙂</td>\n",
       "    </tr>\n",
       "    <tr>\n",
       "      <th>3</th>\n",
       "      <td>feel honored part group amazing talents</td>\n",
       "      <td>🙂</td>\n",
       "    </tr>\n",
       "    <tr>\n",
       "      <th>4</th>\n",
       "      <td>think helping also began feel pretty lonely lo...</td>\n",
       "      <td>☹️</td>\n",
       "    </tr>\n",
       "  </tbody>\n",
       "</table>\n",
       "</div>"
      ],
      "text/plain": [
       "                                                text emotion\n",
       "0  carefully word blog posts amount criticism hea...      ☹️\n",
       "1  cannot remember little mermaid feeling carefre...       🙂\n",
       "2  not feeling super well turns cold knocked next...       🙂\n",
       "3            feel honored part group amazing talents       🙂\n",
       "4  think helping also began feel pretty lonely lo...      ☹️"
      ]
     },
     "execution_count": 3,
     "metadata": {},
     "output_type": "execute_result"
    }
   ],
   "source": [
    "df = pd.read_csv('/kaggle/input/text-emotion-recognition/Text_Emotion.csv')\n",
    "df.head()"
   ]
  },
  {
   "cell_type": "code",
   "execution_count": 4,
   "id": "843f176a",
   "metadata": {
    "execution": {
     "iopub.execute_input": "2023-03-07T15:48:44.620136Z",
     "iopub.status.busy": "2023-03-07T15:48:44.619624Z",
     "iopub.status.idle": "2023-03-07T15:48:44.687967Z",
     "shell.execute_reply": "2023-03-07T15:48:44.686634Z"
    },
    "papermill": {
     "duration": 0.081045,
     "end_time": "2023-03-07T15:48:44.691315",
     "exception": false,
     "start_time": "2023-03-07T15:48:44.610270",
     "status": "completed"
    },
    "tags": []
   },
   "outputs": [
    {
     "data": {
      "text/html": [
       "<div>\n",
       "<style scoped>\n",
       "    .dataframe tbody tr th:only-of-type {\n",
       "        vertical-align: middle;\n",
       "    }\n",
       "\n",
       "    .dataframe tbody tr th {\n",
       "        vertical-align: top;\n",
       "    }\n",
       "\n",
       "    .dataframe thead th {\n",
       "        text-align: right;\n",
       "    }\n",
       "</style>\n",
       "<table border=\"1\" class=\"dataframe\">\n",
       "  <thead>\n",
       "    <tr style=\"text-align: right;\">\n",
       "      <th></th>\n",
       "      <th>text</th>\n",
       "      <th>emotion</th>\n",
       "    </tr>\n",
       "  </thead>\n",
       "  <tbody>\n",
       "    <tr>\n",
       "      <th>0</th>\n",
       "      <td>carefully word blog posts amount criticism hea...</td>\n",
       "      <td>0</td>\n",
       "    </tr>\n",
       "    <tr>\n",
       "      <th>1</th>\n",
       "      <td>cannot remember little mermaid feeling carefre...</td>\n",
       "      <td>1</td>\n",
       "    </tr>\n",
       "    <tr>\n",
       "      <th>2</th>\n",
       "      <td>not feeling super well turns cold knocked next...</td>\n",
       "      <td>1</td>\n",
       "    </tr>\n",
       "    <tr>\n",
       "      <th>3</th>\n",
       "      <td>feel honored part group amazing talents</td>\n",
       "      <td>1</td>\n",
       "    </tr>\n",
       "    <tr>\n",
       "      <th>4</th>\n",
       "      <td>think helping also began feel pretty lonely lo...</td>\n",
       "      <td>0</td>\n",
       "    </tr>\n",
       "  </tbody>\n",
       "</table>\n",
       "</div>"
      ],
      "text/plain": [
       "                                                text  emotion\n",
       "0  carefully word blog posts amount criticism hea...        0\n",
       "1  cannot remember little mermaid feeling carefre...        1\n",
       "2  not feeling super well turns cold knocked next...        1\n",
       "3            feel honored part group amazing talents        1\n",
       "4  think helping also began feel pretty lonely lo...        0"
      ]
     },
     "execution_count": 4,
     "metadata": {},
     "output_type": "execute_result"
    }
   ],
   "source": [
    "#Cleaning the emojis with mapping\n",
    "df['emotion'] = df['emotion'].map({\n",
    "    '☹️' : 0,\n",
    "    '🙂' : 1\n",
    "})\n",
    "\n",
    "df.head()"
   ]
  },
  {
   "cell_type": "code",
   "execution_count": 5,
   "id": "4ddf1001",
   "metadata": {
    "execution": {
     "iopub.execute_input": "2023-03-07T15:48:44.710332Z",
     "iopub.status.busy": "2023-03-07T15:48:44.709905Z",
     "iopub.status.idle": "2023-03-07T15:48:44.884356Z",
     "shell.execute_reply": "2023-03-07T15:48:44.883280Z"
    },
    "papermill": {
     "duration": 0.187127,
     "end_time": "2023-03-07T15:48:44.887323",
     "exception": false,
     "start_time": "2023-03-07T15:48:44.700196",
     "status": "completed"
    },
    "tags": []
   },
   "outputs": [
    {
     "data": {
      "text/html": [
       "<div>\n",
       "<style scoped>\n",
       "    .dataframe tbody tr th:only-of-type {\n",
       "        vertical-align: middle;\n",
       "    }\n",
       "\n",
       "    .dataframe tbody tr th {\n",
       "        vertical-align: top;\n",
       "    }\n",
       "\n",
       "    .dataframe thead th {\n",
       "        text-align: right;\n",
       "    }\n",
       "</style>\n",
       "<table border=\"1\" class=\"dataframe\">\n",
       "  <thead>\n",
       "    <tr style=\"text-align: right;\">\n",
       "      <th></th>\n",
       "      <th>text</th>\n",
       "      <th>emotion</th>\n",
       "    </tr>\n",
       "  </thead>\n",
       "  <tbody>\n",
       "    <tr>\n",
       "      <th>0</th>\n",
       "      <td>carefully word blog posts amount criticism hea...</td>\n",
       "      <td>0</td>\n",
       "    </tr>\n",
       "    <tr>\n",
       "      <th>1</th>\n",
       "      <td>cannot remember little mermaid feeling carefre...</td>\n",
       "      <td>1</td>\n",
       "    </tr>\n",
       "    <tr>\n",
       "      <th>2</th>\n",
       "      <td>not feeling super well turns cold knocked next...</td>\n",
       "      <td>1</td>\n",
       "    </tr>\n",
       "    <tr>\n",
       "      <th>3</th>\n",
       "      <td>feel honored part group amazing talents</td>\n",
       "      <td>1</td>\n",
       "    </tr>\n",
       "    <tr>\n",
       "      <th>4</th>\n",
       "      <td>think helping also began feel pretty lonely lo...</td>\n",
       "      <td>0</td>\n",
       "    </tr>\n",
       "  </tbody>\n",
       "</table>\n",
       "</div>"
      ],
      "text/plain": [
       "                                                text  emotion\n",
       "0  carefully word blog posts amount criticism hea...        0\n",
       "1  cannot remember little mermaid feeling carefre...        1\n",
       "2  not feeling super well turns cold knocked next...        1\n",
       "3            feel honored part group amazing talents        1\n",
       "4  think helping also began feel pretty lonely lo...        0"
      ]
     },
     "execution_count": 5,
     "metadata": {},
     "output_type": "execute_result"
    }
   ],
   "source": [
    "#Lower case if there is any\n",
    "df['text'] = df['text'].apply(lambda x: x.lower())\n",
    "df.head()"
   ]
  },
  {
   "cell_type": "code",
   "execution_count": 6,
   "id": "5c093676",
   "metadata": {
    "execution": {
     "iopub.execute_input": "2023-03-07T15:48:44.909948Z",
     "iopub.status.busy": "2023-03-07T15:48:44.909410Z",
     "iopub.status.idle": "2023-03-07T15:48:46.332772Z",
     "shell.execute_reply": "2023-03-07T15:48:46.330921Z"
    },
    "papermill": {
     "duration": 1.439684,
     "end_time": "2023-03-07T15:48:46.336155",
     "exception": false,
     "start_time": "2023-03-07T15:48:44.896471",
     "status": "completed"
    },
    "tags": []
   },
   "outputs": [
    {
     "name": "stdout",
     "output_type": "stream",
     "text": [
      "[nltk_data] Downloading package stopwords to /usr/share/nltk_data...\n",
      "[nltk_data]   Package stopwords is already up-to-date!\n"
     ]
    }
   ],
   "source": [
    "#Import NLTK for stop words\n",
    "import nltk\n",
    "from nltk.corpus import stopwords\n",
    "\n",
    "nltk.download('stopwords')\n",
    "stop_words = set(stopwords.words('english'))"
   ]
  },
  {
   "cell_type": "code",
   "execution_count": 7,
   "id": "1ec37cb5",
   "metadata": {
    "execution": {
     "iopub.execute_input": "2023-03-07T15:48:46.348581Z",
     "iopub.status.busy": "2023-03-07T15:48:46.348273Z",
     "iopub.status.idle": "2023-03-07T15:49:15.859315Z",
     "shell.execute_reply": "2023-03-07T15:49:15.858334Z"
    },
    "papermill": {
     "duration": 29.519792,
     "end_time": "2023-03-07T15:49:15.861534",
     "exception": false,
     "start_time": "2023-03-07T15:48:46.341742",
     "status": "completed"
    },
    "tags": []
   },
   "outputs": [
    {
     "data": {
      "text/html": [
       "<div>\n",
       "<style scoped>\n",
       "    .dataframe tbody tr th:only-of-type {\n",
       "        vertical-align: middle;\n",
       "    }\n",
       "\n",
       "    .dataframe tbody tr th {\n",
       "        vertical-align: top;\n",
       "    }\n",
       "\n",
       "    .dataframe thead th {\n",
       "        text-align: right;\n",
       "    }\n",
       "</style>\n",
       "<table border=\"1\" class=\"dataframe\">\n",
       "  <thead>\n",
       "    <tr style=\"text-align: right;\">\n",
       "      <th></th>\n",
       "      <th>text</th>\n",
       "      <th>emotion</th>\n",
       "    </tr>\n",
       "  </thead>\n",
       "  <tbody>\n",
       "    <tr>\n",
       "      <th>0</th>\n",
       "      <td>carefully word blog posts amount criticism hea...</td>\n",
       "      <td>0</td>\n",
       "    </tr>\n",
       "    <tr>\n",
       "      <th>1</th>\n",
       "      <td>remember little mermaid feeling carefree beaut...</td>\n",
       "      <td>1</td>\n",
       "    </tr>\n",
       "    <tr>\n",
       "      <th>2</th>\n",
       "      <td>feeling super well turns cold knocked next thr...</td>\n",
       "      <td>1</td>\n",
       "    </tr>\n",
       "    <tr>\n",
       "      <th>3</th>\n",
       "      <td>feel honored part group amazing talents</td>\n",
       "      <td>1</td>\n",
       "    </tr>\n",
       "    <tr>\n",
       "      <th>4</th>\n",
       "      <td>think helping also began feel pretty lonely lo...</td>\n",
       "      <td>0</td>\n",
       "    </tr>\n",
       "  </tbody>\n",
       "</table>\n",
       "</div>"
      ],
      "text/plain": [
       "                                                text  emotion\n",
       "0  carefully word blog posts amount criticism hea...        0\n",
       "1  remember little mermaid feeling carefree beaut...        1\n",
       "2  feeling super well turns cold knocked next thr...        1\n",
       "3            feel honored part group amazing talents        1\n",
       "4  think helping also began feel pretty lonely lo...        0"
      ]
     },
     "execution_count": 7,
     "metadata": {},
     "output_type": "execute_result"
    }
   ],
   "source": [
    "from string import punctuation\n",
    "\n",
    "def remove_stopwords_and_punctuations(text):\n",
    "    tokens = nltk.word_tokenize(text)\n",
    "    filtered_tokens = [token for token in tokens if token not in stop_words and token not in punctuation]\n",
    "    return ' '.join(filtered_tokens)\n",
    "\n",
    "df['text'] = df['text'].apply(lambda x: remove_stopwords_and_punctuations(x))\n",
    "df.head()"
   ]
  },
  {
   "cell_type": "code",
   "execution_count": 8,
   "id": "fa19c17a",
   "metadata": {
    "execution": {
     "iopub.execute_input": "2023-03-07T15:49:15.874280Z",
     "iopub.status.busy": "2023-03-07T15:49:15.873937Z",
     "iopub.status.idle": "2023-03-07T15:49:15.918569Z",
     "shell.execute_reply": "2023-03-07T15:49:15.917490Z"
    },
    "papermill": {
     "duration": 0.053467,
     "end_time": "2023-03-07T15:49:15.920913",
     "exception": false,
     "start_time": "2023-03-07T15:49:15.867446",
     "status": "completed"
    },
    "tags": []
   },
   "outputs": [
    {
     "data": {
      "text/html": [
       "<div>\n",
       "<style scoped>\n",
       "    .dataframe tbody tr th:only-of-type {\n",
       "        vertical-align: middle;\n",
       "    }\n",
       "\n",
       "    .dataframe tbody tr th {\n",
       "        vertical-align: top;\n",
       "    }\n",
       "\n",
       "    .dataframe thead th {\n",
       "        text-align: right;\n",
       "    }\n",
       "</style>\n",
       "<table border=\"1\" class=\"dataframe\">\n",
       "  <thead>\n",
       "    <tr style=\"text-align: right;\">\n",
       "      <th></th>\n",
       "      <th>text</th>\n",
       "      <th>emotion</th>\n",
       "    </tr>\n",
       "  </thead>\n",
       "  <tbody>\n",
       "    <tr>\n",
       "      <th>124415</th>\n",
       "      <td>feel relieved sad time</td>\n",
       "      <td>1</td>\n",
       "    </tr>\n",
       "    <tr>\n",
       "      <th>280623</th>\n",
       "      <td>really double time works update blog soon show...</td>\n",
       "      <td>1</td>\n",
       "    </tr>\n",
       "    <tr>\n",
       "      <th>275986</th>\n",
       "      <td>glad longer feel doomed single old lady</td>\n",
       "      <td>0</td>\n",
       "    </tr>\n",
       "    <tr>\n",
       "      <th>133887</th>\n",
       "      <td>feel bit vain uploading</td>\n",
       "      <td>0</td>\n",
       "    </tr>\n",
       "    <tr>\n",
       "      <th>10683</th>\n",
       "      <td>take kid golden arches feel though wear fake m...</td>\n",
       "      <td>0</td>\n",
       "    </tr>\n",
       "  </tbody>\n",
       "</table>\n",
       "</div>"
      ],
      "text/plain": [
       "                                                     text  emotion\n",
       "124415                             feel relieved sad time        1\n",
       "280623  really double time works update blog soon show...        1\n",
       "275986            glad longer feel doomed single old lady        0\n",
       "133887                            feel bit vain uploading        0\n",
       "10683   take kid golden arches feel though wear fake m...        0"
      ]
     },
     "execution_count": 8,
     "metadata": {},
     "output_type": "execute_result"
    }
   ],
   "source": [
    "#Shuffle\n",
    "from sklearn.utils import shuffle\n",
    "\n",
    "df = shuffle(df)\n",
    "df.head()"
   ]
  },
  {
   "cell_type": "code",
   "execution_count": 9,
   "id": "ba920c43",
   "metadata": {
    "execution": {
     "iopub.execute_input": "2023-03-07T15:49:15.933348Z",
     "iopub.status.busy": "2023-03-07T15:49:15.933044Z",
     "iopub.status.idle": "2023-03-07T15:49:15.980713Z",
     "shell.execute_reply": "2023-03-07T15:49:15.979605Z"
    },
    "papermill": {
     "duration": 0.056469,
     "end_time": "2023-03-07T15:49:15.983064",
     "exception": false,
     "start_time": "2023-03-07T15:49:15.926595",
     "status": "completed"
    },
    "tags": []
   },
   "outputs": [
    {
     "data": {
      "text/plain": [
       "253830    lip service faith fine feel markedly air resul...\n",
       "150496    never felt confident telling people jesus alwa...\n",
       "214144    yeah things going well getting feel like felt ...\n",
       "215105    learned truly love unconditionally compassiona...\n",
       "169753    feel like throwing target blank title heartbur...\n",
       "Name: text, dtype: object"
      ]
     },
     "execution_count": 9,
     "metadata": {},
     "output_type": "execute_result"
    }
   ],
   "source": [
    "#Train-Test Split\n",
    "from sklearn.model_selection import train_test_split\n",
    "\n",
    "labels = df['emotion']\n",
    "data = df['text']\n",
    "\n",
    "x_train, x_test, y_train, y_test = train_test_split(data, labels, test_size=0.33)\n",
    "\n",
    "x_train.head()"
   ]
  },
  {
   "cell_type": "code",
   "execution_count": 10,
   "id": "125db6b1",
   "metadata": {
    "execution": {
     "iopub.execute_input": "2023-03-07T15:49:15.995755Z",
     "iopub.status.busy": "2023-03-07T15:49:15.995404Z",
     "iopub.status.idle": "2023-03-07T15:49:23.516682Z",
     "shell.execute_reply": "2023-03-07T15:49:23.515533Z"
    },
    "papermill": {
     "duration": 7.531481,
     "end_time": "2023-03-07T15:49:23.520054",
     "exception": false,
     "start_time": "2023-03-07T15:49:15.988573",
     "status": "completed"
    },
    "tags": []
   },
   "outputs": [],
   "source": [
    "#Tokenization & sequencing\n",
    "from tensorflow.keras.preprocessing.text import Tokenizer\n",
    "from tensorflow.keras.preprocessing.sequence import pad_sequences\n",
    "\n",
    "MAX_VOCAB_SIZE = 20000\n",
    "tokenizer = Tokenizer(num_words=MAX_VOCAB_SIZE)\n",
    "tokenizer.fit_on_texts(x_train)\n",
    "\n",
    "sequence_train = tokenizer.texts_to_sequences(x_train)\n",
    "sequence_test = tokenizer.texts_to_sequences(x_test)"
   ]
  },
  {
   "cell_type": "code",
   "execution_count": 11,
   "id": "da4c3d6d",
   "metadata": {
    "execution": {
     "iopub.execute_input": "2023-03-07T15:49:23.539976Z",
     "iopub.status.busy": "2023-03-07T15:49:23.539392Z",
     "iopub.status.idle": "2023-03-07T15:49:23.545493Z",
     "shell.execute_reply": "2023-03-07T15:49:23.544534Z"
    },
    "papermill": {
     "duration": 0.022464,
     "end_time": "2023-03-07T15:49:23.551881",
     "exception": false,
     "start_time": "2023-03-07T15:49:23.529417",
     "status": "completed"
    },
    "tags": []
   },
   "outputs": [
    {
     "name": "stdout",
     "output_type": "stream",
     "text": [
      "Tokenized 63475 Unique Tokens\n"
     ]
    }
   ],
   "source": [
    "V = len(tokenizer.index_word)\n",
    "print(\"Tokenized %s Unique Tokens\" %V)"
   ]
  },
  {
   "cell_type": "code",
   "execution_count": 12,
   "id": "9d607eb2",
   "metadata": {
    "execution": {
     "iopub.execute_input": "2023-03-07T15:49:23.570136Z",
     "iopub.status.busy": "2023-03-07T15:49:23.569788Z",
     "iopub.status.idle": "2023-03-07T15:49:24.441309Z",
     "shell.execute_reply": "2023-03-07T15:49:24.439979Z"
    },
    "papermill": {
     "duration": 0.883575,
     "end_time": "2023-03-07T15:49:24.443975",
     "exception": false,
     "start_time": "2023-03-07T15:49:23.560400",
     "status": "completed"
    },
    "tags": []
   },
   "outputs": [],
   "source": [
    "#Padding\n",
    "data_train = pad_sequences(sequence_train)\n",
    "\n",
    "T = data_train.shape[1]\n",
    "\n",
    "data_test = pad_sequences(sequence_test, maxlen=T)"
   ]
  },
  {
   "cell_type": "code",
   "execution_count": 13,
   "id": "9d34b04a",
   "metadata": {
    "execution": {
     "iopub.execute_input": "2023-03-07T15:49:24.457730Z",
     "iopub.status.busy": "2023-03-07T15:49:24.456694Z",
     "iopub.status.idle": "2023-03-07T15:49:28.368031Z",
     "shell.execute_reply": "2023-03-07T15:49:28.366521Z"
    },
    "papermill": {
     "duration": 3.922842,
     "end_time": "2023-03-07T15:49:28.372702",
     "exception": false,
     "start_time": "2023-03-07T15:49:24.449860",
     "status": "completed"
    },
    "tags": []
   },
   "outputs": [],
   "source": [
    "#Build Model\n",
    "from tensorflow.keras.layers import Input, Conv1D, Embedding, MaxPooling1D, GlobalMaxPooling1D, Add, Dense, Dropout, LeakyReLU\n",
    "from tensorflow.keras.models import Model\n",
    "\n",
    "D = 20\n",
    "\n",
    "i = Input(shape=(T,))\n",
    "x = Embedding(V + 1 , D)(i)\n",
    "x = Conv1D(32, 3, padding='same',activation=LeakyReLU(alpha=0.2))(x)\n",
    "x = MaxPooling1D(3)(x)\n",
    "x = Conv1D(64, 3, padding='same', activation=LeakyReLU(alpha=0.2))(x)\n",
    "x = MaxPooling1D(3)(x)\n",
    "x = Conv1D(128, 3, padding='same', activation=LeakyReLU(alpha=0.2))(x)\n",
    "x = GlobalMaxPooling1D()(x)\n",
    "x = Dropout(0.5)(x)\n",
    "x = Dense(1, activation='sigmoid')(x)\n",
    "\n",
    "model = Model(i,x)\n"
   ]
  },
  {
   "cell_type": "code",
   "execution_count": 14,
   "id": "0090313e",
   "metadata": {
    "execution": {
     "iopub.execute_input": "2023-03-07T15:49:28.407534Z",
     "iopub.status.busy": "2023-03-07T15:49:28.407029Z",
     "iopub.status.idle": "2023-03-07T15:49:28.445978Z",
     "shell.execute_reply": "2023-03-07T15:49:28.442492Z"
    },
    "papermill": {
     "duration": 0.060538,
     "end_time": "2023-03-07T15:49:28.450134",
     "exception": false,
     "start_time": "2023-03-07T15:49:28.389596",
     "status": "completed"
    },
    "tags": []
   },
   "outputs": [],
   "source": [
    "from tensorflow.keras.optimizers import Adam\n",
    "\n",
    "model.compile(\n",
    "    loss = 'binary_crossentropy',\n",
    "    metrics=['accuracy'],\n",
    "    optimizer=Adam(\n",
    "        learning_rate=0.0002\n",
    "    )\n",
    ")"
   ]
  },
  {
   "cell_type": "code",
   "execution_count": 15,
   "id": "7e0f42ae",
   "metadata": {
    "execution": {
     "iopub.execute_input": "2023-03-07T15:49:28.470885Z",
     "iopub.status.busy": "2023-03-07T15:49:28.470332Z",
     "iopub.status.idle": "2023-03-07T16:27:51.839044Z",
     "shell.execute_reply": "2023-03-07T16:27:51.837885Z"
    },
    "papermill": {
     "duration": 2303.379443,
     "end_time": "2023-03-07T16:27:51.841644",
     "exception": false,
     "start_time": "2023-03-07T15:49:28.462201",
     "status": "completed"
    },
    "tags": []
   },
   "outputs": [
    {
     "name": "stdout",
     "output_type": "stream",
     "text": [
      "Epoch 1/50\n",
      "5922/5922 [==============================] - 83s 12ms/step - loss: 0.1512 - accuracy: 0.9251 - val_loss: 0.0728 - val_accuracy: 0.9674\n",
      "Epoch 2/50\n",
      "5922/5922 [==============================] - 46s 8ms/step - loss: 0.0609 - accuracy: 0.9753 - val_loss: 0.0686 - val_accuracy: 0.9700\n",
      "Epoch 3/50\n",
      "5922/5922 [==============================] - 46s 8ms/step - loss: 0.0493 - accuracy: 0.9803 - val_loss: 0.0742 - val_accuracy: 0.9688\n",
      "Epoch 4/50\n",
      "5922/5922 [==============================] - 43s 7ms/step - loss: 0.0401 - accuracy: 0.9843 - val_loss: 0.0809 - val_accuracy: 0.9675\n",
      "Epoch 5/50\n",
      "5922/5922 [==============================] - 46s 8ms/step - loss: 0.0319 - accuracy: 0.9877 - val_loss: 0.0929 - val_accuracy: 0.9665\n",
      "Epoch 6/50\n",
      "5922/5922 [==============================] - 46s 8ms/step - loss: 0.0247 - accuracy: 0.9905 - val_loss: 0.1026 - val_accuracy: 0.9654\n",
      "Epoch 7/50\n",
      "5922/5922 [==============================] - 43s 7ms/step - loss: 0.0193 - accuracy: 0.9930 - val_loss: 0.1305 - val_accuracy: 0.9649\n",
      "Epoch 8/50\n",
      "5922/5922 [==============================] - 46s 8ms/step - loss: 0.0142 - accuracy: 0.9951 - val_loss: 0.1492 - val_accuracy: 0.9631\n",
      "Epoch 9/50\n",
      "5922/5922 [==============================] - 45s 8ms/step - loss: 0.0117 - accuracy: 0.9958 - val_loss: 0.1623 - val_accuracy: 0.9614\n",
      "Epoch 10/50\n",
      "5922/5922 [==============================] - 42s 7ms/step - loss: 0.0092 - accuracy: 0.9968 - val_loss: 0.1686 - val_accuracy: 0.9613\n",
      "Epoch 11/50\n",
      "5922/5922 [==============================] - 45s 8ms/step - loss: 0.0073 - accuracy: 0.9974 - val_loss: 0.2026 - val_accuracy: 0.9598\n",
      "Epoch 12/50\n",
      "5922/5922 [==============================] - 41s 7ms/step - loss: 0.0065 - accuracy: 0.9977 - val_loss: 0.2100 - val_accuracy: 0.9598\n",
      "Epoch 13/50\n",
      "5922/5922 [==============================] - 42s 7ms/step - loss: 0.0052 - accuracy: 0.9982 - val_loss: 0.2382 - val_accuracy: 0.9595\n",
      "Epoch 14/50\n",
      "5922/5922 [==============================] - 45s 8ms/step - loss: 0.0046 - accuracy: 0.9984 - val_loss: 0.2513 - val_accuracy: 0.9586\n",
      "Epoch 15/50\n",
      "5922/5922 [==============================] - 42s 7ms/step - loss: 0.0041 - accuracy: 0.9985 - val_loss: 0.2505 - val_accuracy: 0.9601\n",
      "Epoch 16/50\n",
      "5922/5922 [==============================] - 45s 8ms/step - loss: 0.0040 - accuracy: 0.9985 - val_loss: 0.2599 - val_accuracy: 0.9590\n",
      "Epoch 17/50\n",
      "5922/5922 [==============================] - 42s 7ms/step - loss: 0.0034 - accuracy: 0.9987 - val_loss: 0.2923 - val_accuracy: 0.9577\n",
      "Epoch 18/50\n",
      "5922/5922 [==============================] - 45s 8ms/step - loss: 0.0032 - accuracy: 0.9988 - val_loss: 0.2907 - val_accuracy: 0.9571\n",
      "Epoch 19/50\n",
      "5922/5922 [==============================] - 45s 8ms/step - loss: 0.0028 - accuracy: 0.9989 - val_loss: 0.3192 - val_accuracy: 0.9567\n",
      "Epoch 20/50\n",
      "5922/5922 [==============================] - 42s 7ms/step - loss: 0.0028 - accuracy: 0.9989 - val_loss: 0.3144 - val_accuracy: 0.9589\n",
      "Epoch 21/50\n",
      "5922/5922 [==============================] - 42s 7ms/step - loss: 0.0025 - accuracy: 0.9991 - val_loss: 0.3116 - val_accuracy: 0.9595\n",
      "Epoch 22/50\n",
      "5922/5922 [==============================] - 42s 7ms/step - loss: 0.0024 - accuracy: 0.9990 - val_loss: 0.3172 - val_accuracy: 0.9588\n",
      "Epoch 23/50\n",
      "5922/5922 [==============================] - 42s 7ms/step - loss: 0.0023 - accuracy: 0.9991 - val_loss: 0.3372 - val_accuracy: 0.9602\n",
      "Epoch 24/50\n",
      "5922/5922 [==============================] - 45s 8ms/step - loss: 0.0024 - accuracy: 0.9990 - val_loss: 0.3224 - val_accuracy: 0.9573\n",
      "Epoch 25/50\n",
      "5922/5922 [==============================] - 45s 8ms/step - loss: 0.0021 - accuracy: 0.9991 - val_loss: 0.3221 - val_accuracy: 0.9578\n",
      "Epoch 26/50\n",
      "5922/5922 [==============================] - 45s 8ms/step - loss: 0.0021 - accuracy: 0.9991 - val_loss: 0.3438 - val_accuracy: 0.9591\n",
      "Epoch 27/50\n",
      "5922/5922 [==============================] - 45s 8ms/step - loss: 0.0021 - accuracy: 0.9991 - val_loss: 0.3386 - val_accuracy: 0.9591\n",
      "Epoch 28/50\n",
      "5922/5922 [==============================] - 42s 7ms/step - loss: 0.0020 - accuracy: 0.9992 - val_loss: 0.3539 - val_accuracy: 0.9599\n",
      "Epoch 29/50\n",
      "5922/5922 [==============================] - 41s 7ms/step - loss: 0.0020 - accuracy: 0.9991 - val_loss: 0.3600 - val_accuracy: 0.9588\n",
      "Epoch 30/50\n",
      "5922/5922 [==============================] - 43s 7ms/step - loss: 0.0020 - accuracy: 0.9992 - val_loss: 0.3767 - val_accuracy: 0.9581\n",
      "Epoch 31/50\n",
      "5922/5922 [==============================] - 46s 8ms/step - loss: 0.0019 - accuracy: 0.9991 - val_loss: 0.3505 - val_accuracy: 0.9598\n",
      "Epoch 32/50\n",
      "5922/5922 [==============================] - 42s 7ms/step - loss: 0.0018 - accuracy: 0.9992 - val_loss: 0.3630 - val_accuracy: 0.9597\n",
      "Epoch 33/50\n",
      "5922/5922 [==============================] - 43s 7ms/step - loss: 0.0019 - accuracy: 0.9992 - val_loss: 0.3899 - val_accuracy: 0.9601\n",
      "Epoch 34/50\n",
      "5922/5922 [==============================] - 46s 8ms/step - loss: 0.0018 - accuracy: 0.9992 - val_loss: 0.3815 - val_accuracy: 0.9602\n",
      "Epoch 35/50\n",
      "5922/5922 [==============================] - 46s 8ms/step - loss: 0.0018 - accuracy: 0.9992 - val_loss: 0.3723 - val_accuracy: 0.9593\n",
      "Epoch 36/50\n",
      "5922/5922 [==============================] - 43s 7ms/step - loss: 0.0017 - accuracy: 0.9992 - val_loss: 0.4149 - val_accuracy: 0.9586\n",
      "Epoch 37/50\n",
      "5922/5922 [==============================] - 47s 8ms/step - loss: 0.0017 - accuracy: 0.9993 - val_loss: 0.3851 - val_accuracy: 0.9595\n",
      "Epoch 38/50\n",
      "5922/5922 [==============================] - 46s 8ms/step - loss: 0.0017 - accuracy: 0.9993 - val_loss: 0.3940 - val_accuracy: 0.9595\n",
      "Epoch 39/50\n",
      "5922/5922 [==============================] - 46s 8ms/step - loss: 0.0017 - accuracy: 0.9992 - val_loss: 0.4007 - val_accuracy: 0.9604\n",
      "Epoch 40/50\n",
      "5922/5922 [==============================] - 44s 7ms/step - loss: 0.0016 - accuracy: 0.9992 - val_loss: 0.4255 - val_accuracy: 0.9611\n",
      "Epoch 41/50\n",
      "5922/5922 [==============================] - 46s 8ms/step - loss: 0.0017 - accuracy: 0.9993 - val_loss: 0.3928 - val_accuracy: 0.9609\n",
      "Epoch 42/50\n",
      "5922/5922 [==============================] - 43s 7ms/step - loss: 0.0015 - accuracy: 0.9993 - val_loss: 0.4141 - val_accuracy: 0.9596\n",
      "Epoch 43/50\n",
      "5922/5922 [==============================] - 44s 7ms/step - loss: 0.0016 - accuracy: 0.9993 - val_loss: 0.4440 - val_accuracy: 0.9605\n",
      "Epoch 44/50\n",
      "5922/5922 [==============================] - 46s 8ms/step - loss: 0.0016 - accuracy: 0.9993 - val_loss: 0.4239 - val_accuracy: 0.9602\n",
      "Epoch 45/50\n",
      "5922/5922 [==============================] - 47s 8ms/step - loss: 0.0016 - accuracy: 0.9993 - val_loss: 0.4213 - val_accuracy: 0.9602\n",
      "Epoch 46/50\n",
      "5922/5922 [==============================] - 47s 8ms/step - loss: 0.0016 - accuracy: 0.9993 - val_loss: 0.3874 - val_accuracy: 0.9603\n",
      "Epoch 47/50\n",
      "5922/5922 [==============================] - 43s 7ms/step - loss: 0.0015 - accuracy: 0.9993 - val_loss: 0.4280 - val_accuracy: 0.9608\n",
      "Epoch 48/50\n",
      "5922/5922 [==============================] - 42s 7ms/step - loss: 0.0016 - accuracy: 0.9993 - val_loss: 0.4277 - val_accuracy: 0.9618\n",
      "Epoch 49/50\n",
      "5922/5922 [==============================] - 43s 7ms/step - loss: 0.0016 - accuracy: 0.9993 - val_loss: 0.4127 - val_accuracy: 0.9596\n",
      "Epoch 50/50\n",
      "5922/5922 [==============================] - 45s 8ms/step - loss: 0.0016 - accuracy: 0.9993 - val_loss: 0.4303 - val_accuracy: 0.9607\n"
     ]
    }
   ],
   "source": [
    "r = model.fit(\n",
    "    data_train,\n",
    "    y_train,\n",
    "    validation_data=(data_test, y_test),\n",
    "    epochs = 50\n",
    ")"
   ]
  },
  {
   "cell_type": "code",
   "execution_count": 16,
   "id": "31c4e688",
   "metadata": {
    "execution": {
     "iopub.execute_input": "2023-03-07T16:27:55.852096Z",
     "iopub.status.busy": "2023-03-07T16:27:55.851727Z",
     "iopub.status.idle": "2023-03-07T16:27:56.118349Z",
     "shell.execute_reply": "2023-03-07T16:27:56.117209Z"
    },
    "papermill": {
     "duration": 2.302676,
     "end_time": "2023-03-07T16:27:56.120731",
     "exception": false,
     "start_time": "2023-03-07T16:27:53.818055",
     "status": "completed"
    },
    "tags": []
   },
   "outputs": [
    {
     "data": {
      "text/plain": [
       "<matplotlib.legend.Legend at 0x7f37a81e3750>"
      ]
     },
     "execution_count": 16,
     "metadata": {},
     "output_type": "execute_result"
    },
    {
     "data": {
      "image/png": "[encoded data removed]",
      "text/plain": [
       "<Figure size 640x480 with 1 Axes>"
      ]
     },
     "metadata": {},
     "output_type": "display_data"
    }
   ],
   "source": [
    "plt.plot(r.history['loss'], label = 'loss')\n",
    "plt.plot(r.history['val_loss'], label = 'val_loss')\n",
    "plt.legend()"
   ]
  },
  {
   "cell_type": "code",
   "execution_count": 17,
   "id": "39269654",
   "metadata": {
    "execution": {
     "iopub.execute_input": "2023-03-07T16:28:00.310448Z",
     "iopub.status.busy": "2023-03-07T16:28:00.309401Z",
     "iopub.status.idle": "2023-03-07T16:28:00.560425Z",
     "shell.execute_reply": "2023-03-07T16:28:00.559477Z"
    },
    "papermill": {
     "duration": 2.454582,
     "end_time": "2023-03-07T16:28:00.562543",
     "exception": false,
     "start_time": "2023-03-07T16:27:58.107961",
     "status": "completed"
    },
    "tags": []
   },
   "outputs": [
    {
     "data": {
      "text/plain": [
       "<matplotlib.legend.Legend at 0x7f37a07ee050>"
      ]
     },
     "execution_count": 17,
     "metadata": {},
     "output_type": "execute_result"
    },
    {
     "data": {
      "image/png": "[encoded data removed]",
      "text/plain": [
       "<Figure size 640x480 with 1 Axes>"
      ]
     },
     "metadata": {},
     "output_type": "display_data"
    }
   ],
   "source": [
    "plt.plot(r.history['accuracy'], label = 'accuracy')\n",
    "plt.plot(r.history['val_accuracy'], label = 'val_accuracy')\n",
    "plt.legend()"
   ]
  },
  {
   "cell_type": "code",
   "execution_count": 18,
   "id": "18e077fb",
   "metadata": {
    "execution": {
     "iopub.execute_input": "2023-03-07T16:28:04.600657Z",
     "iopub.status.busy": "2023-03-07T16:28:04.600284Z",
     "iopub.status.idle": "2023-03-07T16:28:14.916359Z",
     "shell.execute_reply": "2023-03-07T16:28:14.915107Z"
    },
    "papermill": {
     "duration": 12.353476,
     "end_time": "2023-03-07T16:28:14.918887",
     "exception": false,
     "start_time": "2023-03-07T16:28:02.565411",
     "status": "completed"
    },
    "tags": []
   },
   "outputs": [
    {
     "name": "stdout",
     "output_type": "stream",
     "text": [
      "2917/2917 [==============================] - 8s 3ms/step - loss: 0.4303 - accuracy: 0.9607\n"
     ]
    },
    {
     "data": {
      "text/plain": [
       "[0.4302615225315094, 0.9607422947883606]"
      ]
     },
     "execution_count": 18,
     "metadata": {},
     "output_type": "execute_result"
    }
   ],
   "source": [
    "model.evaluate(\n",
    "    data_test,\n",
    "    y_test\n",
    ")"
   ]
  },
  {
   "cell_type": "code",
   "execution_count": 19,
   "id": "779740ab",
   "metadata": {
    "execution": {
     "iopub.execute_input": "2023-03-07T16:28:19.380019Z",
     "iopub.status.busy": "2023-03-07T16:28:19.379628Z",
     "iopub.status.idle": "2023-03-07T16:28:20.173821Z",
     "shell.execute_reply": "2023-03-07T16:28:20.171963Z"
    },
    "papermill": {
     "duration": 2.977028,
     "end_time": "2023-03-07T16:28:20.178156",
     "exception": false,
     "start_time": "2023-03-07T16:28:17.201128",
     "status": "completed"
    },
    "tags": []
   },
   "outputs": [
    {
     "name": "stderr",
     "output_type": "stream",
     "text": [
      "/opt/conda/lib/python3.7/site-packages/ipykernel_launcher.py:8: DeprecationWarning: Starting with ImageIO v3 the behavior of this function will switch to that of iio.v3.imread. To keep the current behavior (and make this warning disappear) use `import imageio.v2 as imageio` or call `imageio.v2.imread` directly.\n",
      "  \n"
     ]
    },
    {
     "data": {
      "text/plain": [
       "(-0.5, 491.5, 1068.5, -0.5)"
      ]
     },
     "execution_count": 19,
     "metadata": {},
     "output_type": "execute_result"
    },
    {
     "data": {
      "image/png": "[encoded data removed]",
      "text/plain": [
       "<Figure size 640x480 with 1 Axes>"
      ]
     },
     "metadata": {},
     "output_type": "display_data"
    }
   ],
   "source": [
    "from tensorflow.keras.utils import plot_model\n",
    "from tensorflow.keras.models import save_model\n",
    "import imageio\n",
    "\n",
    "save_model(model, 'emotion-recoginition.h5')\n",
    "plot_model(model, to_file='/kaggle/working/architecture.png', show_shapes=True)\n",
    "\n",
    "plt.imshow(imageio.imread('/kaggle/working/architecture.png'))\n",
    "plt.axis('off')"
   ]
  },
  {
   "cell_type": "code",
   "execution_count": 20,
   "id": "c62f1687",
   "metadata": {
    "execution": {
     "iopub.execute_input": "2023-03-07T16:28:24.493497Z",
     "iopub.status.busy": "2023-03-07T16:28:24.493122Z",
     "iopub.status.idle": "2023-03-07T16:28:24.527863Z",
     "shell.execute_reply": "2023-03-07T16:28:24.527085Z"
    },
    "papermill": {
     "duration": 2.045384,
     "end_time": "2023-03-07T16:28:24.553206",
     "exception": false,
     "start_time": "2023-03-07T16:28:22.507822",
     "status": "completed"
    },
    "tags": []
   },
   "outputs": [
    {
     "name": "stdout",
     "output_type": "stream",
     "text": [
      "Model: \"model\"\n",
      "_________________________________________________________________\n",
      " Layer (type)                Output Shape              Param #   \n",
      "=================================================================\n",
      " input_1 (InputLayer)        [(None, 46)]              0         \n",
      "                                                                 \n",
      " embedding (Embedding)       (None, 46, 20)            1269520   \n",
      "                                                                 \n",
      " conv1d (Conv1D)             (None, 46, 32)            1952      \n",
      "                                                                 \n",
      " max_pooling1d (MaxPooling1D  (None, 15, 32)           0         \n",
      " )                                                               \n",
      "                                                                 \n",
      " conv1d_1 (Conv1D)           (None, 15, 64)            6208      \n",
      "                                                                 \n",
      " max_pooling1d_1 (MaxPooling  (None, 5, 64)            0         \n",
      " 1D)                                                             \n",
      "                                                                 \n",
      " conv1d_2 (Conv1D)           (None, 5, 128)            24704     \n",
      "                                                                 \n",
      " global_max_pooling1d (Globa  (None, 128)              0         \n",
      " lMaxPooling1D)                                                  \n",
      "                                                                 \n",
      " dropout (Dropout)           (None, 128)               0         \n",
      "                                                                 \n",
      " dense (Dense)               (None, 1)                 129       \n",
      "                                                                 \n",
      "=================================================================\n",
      "Total params: 1,302,513\n",
      "Trainable params: 1,302,513\n",
      "Non-trainable params: 0\n",
      "_________________________________________________________________\n"
     ]
    }
   ],
   "source": [
    "model.summary()"
   ]
  }
 ],
 "metadata": {
  "kernelspec": {
   "display_name": "Python 3",
   "language": "python",
   "name": "python3"
  },
  "language_info": {
   "codemirror_mode": {
    "name": "ipython",
    "version": 3
   },
   "file_extension": ".py",
   "mimetype": "text/x-python",
   "name": "python",
   "nbconvert_exporter": "python",
   "pygments_lexer": "ipython3",
   "version": "3.7.12"
  },
  "papermill": {
   "default_parameters": {},
   "duration": 2403.885958,
   "end_time": "2023-03-07T16:28:29.686868",
   "environment_variables": {},
   "exception": null,
   "input_path": "__notebook__.ipynb",
   "output_path": "__notebook__.ipynb",
   "parameters": {},
   "start_time": "2023-03-07T15:48:25.800910",
   "version": "2.4.0"
  }
 },
 "nbformat": 4,
 "nbformat_minor": 5
}
